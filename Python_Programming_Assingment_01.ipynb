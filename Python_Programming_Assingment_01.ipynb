{
  "nbformat": 4,
  "nbformat_minor": 0,
  "metadata": {
    "colab": {
      "name": "Python_Programming_Assingment_01.ipynb",
      "provenance": []
    },
    "kernelspec": {
      "name": "python3",
      "display_name": "Python 3"
    },
    "language_info": {
      "name": "python"
    }
  },
  "cells": [
    {
      "cell_type": "code",
      "metadata": {
        "id": "g2nt5Cu3t6l6"
      },
      "source": [
        "# Q.1. Write a Python program to print \"Hello Python\"?"
      ],
      "execution_count": 23,
      "outputs": []
    },
    {
      "cell_type": "code",
      "metadata": {
        "colab": {
          "base_uri": "https://localhost:8080/"
        },
        "id": "jNIi6QioCAk7",
        "outputId": "62e75e5d-2467-4080-b12b-cb14a5f43f81"
      },
      "source": [
        "print(\"Hello Python\")"
      ],
      "execution_count": 24,
      "outputs": [
        {
          "output_type": "stream",
          "name": "stdout",
          "text": [
            "Hello Python\n"
          ]
        }
      ]
    },
    {
      "cell_type": "code",
      "metadata": {
        "id": "8DxGgCEqCD9p"
      },
      "source": [
        "# Q.2. Write a Python program to do arithmetical operations addition and division.?"
      ],
      "execution_count": 25,
      "outputs": []
    },
    {
      "cell_type": "code",
      "metadata": {
        "colab": {
          "base_uri": "https://localhost:8080/"
        },
        "id": "1hEi84D1COB0",
        "outputId": "988a26da-8564-4f67-8237-2e736d20a481"
      },
      "source": [
        "# addition\n",
        "a = 6\n",
        "b = 9\n",
        "c = a+b\n",
        "c"
      ],
      "execution_count": 28,
      "outputs": [
        {
          "output_type": "execute_result",
          "data": {
            "text/plain": [
              "15"
            ]
          },
          "metadata": {},
          "execution_count": 28
        }
      ]
    },
    {
      "cell_type": "code",
      "metadata": {
        "colab": {
          "base_uri": "https://localhost:8080/"
        },
        "id": "qNQKAyLkCwPi",
        "outputId": "eb56c69b-9f3f-4206-d6a6-250a0c513a3c"
      },
      "source": [
        "# division\n",
        "a = 100\n",
        "b = 10\n",
        "c = a/b\n",
        "c"
      ],
      "execution_count": 29,
      "outputs": [
        {
          "output_type": "execute_result",
          "data": {
            "text/plain": [
              "10.0"
            ]
          },
          "metadata": {},
          "execution_count": 29
        }
      ]
    },
    {
      "cell_type": "code",
      "metadata": {
        "id": "D5QuTgS_DAoN"
      },
      "source": [
        "# Q.3. Write a Python program to find the area of a triangle?"
      ],
      "execution_count": 30,
      "outputs": []
    },
    {
      "cell_type": "code",
      "metadata": {
        "colab": {
          "base_uri": "https://localhost:8080/"
        },
        "id": "YrzrZH95DJbm",
        "outputId": "06c265ab-defa-4334-bb04-bb08f97af99b"
      },
      "source": [
        "base = 45\n",
        "height = 25\n",
        "area = 1/2*(base*height)\n",
        "area"
      ],
      "execution_count": 31,
      "outputs": [
        {
          "output_type": "execute_result",
          "data": {
            "text/plain": [
              "562.5"
            ]
          },
          "metadata": {},
          "execution_count": 31
        }
      ]
    },
    {
      "cell_type": "code",
      "metadata": {
        "id": "FFp7U-5gD_QV"
      },
      "source": [
        "# Q.4. Write a Python program to swap two variables?"
      ],
      "execution_count": 32,
      "outputs": []
    },
    {
      "cell_type": "code",
      "metadata": {
        "colab": {
          "base_uri": "https://localhost:8080/"
        },
        "id": "c-kz8bqqERyx",
        "outputId": "cf3160f1-976b-483c-89e3-aab50b71f2d9"
      },
      "source": [
        "a = 4\n",
        "b = 6\n",
        "print('original value of a : ',a)\n",
        "print('original value of b : ',b)\n",
        "print('-----------------------------')\n",
        "a = a+b\n",
        "b = a-b\n",
        "a = a-b\n",
        "print('swapped value of a : ',a)\n",
        "print('swapped value of b : ',b)"
      ],
      "execution_count": 35,
      "outputs": [
        {
          "output_type": "stream",
          "name": "stdout",
          "text": [
            "original value of a :  4\n",
            "original value of b :  6\n",
            "-----------------------------\n",
            "swapped value of a :  6\n",
            "swapped value of b :  4\n"
          ]
        }
      ]
    },
    {
      "cell_type": "code",
      "metadata": {
        "id": "YiKcdMIYFY8k"
      },
      "source": [
        "# Q.5. Write a Python program to generate a random number?"
      ],
      "execution_count": 36,
      "outputs": []
    },
    {
      "cell_type": "code",
      "metadata": {
        "colab": {
          "base_uri": "https://localhost:8080/"
        },
        "id": "sxkSxUU5GJ6L",
        "outputId": "13acd32f-9b92-494e-a932-7b788de9634a"
      },
      "source": [
        "import random\n",
        "a = random.randint(1,100)\n",
        "a"
      ],
      "execution_count": 41,
      "outputs": [
        {
          "output_type": "execute_result",
          "data": {
            "text/plain": [
              "71"
            ]
          },
          "metadata": {},
          "execution_count": 41
        }
      ]
    },
    {
      "cell_type": "code",
      "metadata": {
        "id": "WJT1RXhwGt-T"
      },
      "source": [
        "  "
      ],
      "execution_count": null,
      "outputs": []
    }
  ]
}